{
 "cells": [
  {
   "cell_type": "markdown",
   "metadata": {},
   "source": [
    "# Setup: Import libraries and specify global variables"
   ]
  },
  {
   "cell_type": "code",
   "execution_count": 117,
   "metadata": {
    "collapsed": true
   },
   "outputs": [],
   "source": [
    "import requests\n",
    "import datetime\n",
    "import pandas as pd\n",
    "import matplotlib.pyplot as plt\n",
    "%matplotlib inline  "
   ]
  },
  {
   "cell_type": "markdown",
   "metadata": {},
   "source": [
    "In a production environment, the following key should be in a non-version controlled file"
   ]
  },
  {
   "cell_type": "code",
   "execution_count": 2,
   "metadata": {
    "collapsed": true
   },
   "outputs": [],
   "source": [
    "API_KEY='2OC9D1B9P0NOHN99'"
   ]
  },
  {
   "cell_type": "markdown",
   "metadata": {},
   "source": [
    "# Data download and filtering"
   ]
  },
  {
   "cell_type": "code",
   "execution_count": 45,
   "metadata": {
    "collapsed": false
   },
   "outputs": [],
   "source": [
    "def get_data(symbol='BTC', market='CNY', output_path=None, start_date='1900-01-01', end_date='2100-01-01'):\n",
    "    \"\"\"\n",
    "    Retrieves historical data for a given digital currency, trading market and date range.\n",
    "    \n",
    "    - A list of markets is available at https://www.alphavantage.co/physical_currency_list/\n",
    "    - A list of currencies is available at https://www.alphavantage.co/digital_currency_list/\n",
    "    - Start and end dates must be specified in ISO 8601 format ('YYYY-MM-DD').\n",
    "    \n",
    "    Returns a pandas.DataFrame with the relevant data. \n",
    "    If `output_path` is provided, said data is written to it as a CSV.\n",
    "    \"\"\"\n",
    "    res = requests.get(\n",
    "        url=\"https://www.alphavantage.co/query\",\n",
    "        params={\n",
    "            'function': 'DIGITAL_CURRENCY_DAILY',\n",
    "            'symbol': symbol,\n",
    "            'market': market,\n",
    "            'apikey': API_KEY\n",
    "        })\n",
    "    raw_df = pd.DataFrame.from_dict(jsondata[\"Time Series (Digital Currency Daily)\"], orient='index')\n",
    "    df = raw_df.ix[start_date:end_date]\n",
    "\n",
    "    if output_path:\n",
    "        df.to_csv(output_path, header=True, index=True, index_label='timestamp')\n",
    "            \n",
    "    return df"
   ]
  },
  {
   "cell_type": "markdown",
   "metadata": {},
   "source": [
    "We'll use the above function to get all of the historicla data for BTC trading in the CNY market."
   ]
  },
  {
   "cell_type": "code",
   "execution_count": 119,
   "metadata": {
    "collapsed": true
   },
   "outputs": [],
   "source": [
    "get_data(output_path='alphavantage.csv', symbol='BTC', market='CNY');"
   ]
  },
  {
   "cell_type": "code",
   "execution_count": 124,
   "metadata": {
    "collapsed": true
   },
   "outputs": [],
   "source": [
    "df = pd.read_csv(\"alphavantage.csv\", index_col='timestamp')\n",
    "# Alternatively, we could have avoided writing the file to disk and just done:\n",
    "# df = get_data(symbol='BTC', market='CNY')"
   ]
  },
  {
   "cell_type": "markdown",
   "metadata": {},
   "source": [
    "# (Simple) anomaly detection "
   ]
  },
  {
   "cell_type": "code",
   "execution_count": 123,
   "metadata": {
    "collapsed": false
   },
   "outputs": [],
   "source": [
    "def find_anomalies(df, open_col=\"1b. open (USD)\", close_col=\"4b. close (USD)\", threshold=3):\n",
    "    \"\"\"\n",
    "    Given a dataframe with colums for the opening (`open_col`) and closing (`close_col`) prices of an asset and a timestamp as index,\n",
    "    this method returns the same dataset with three more columns:\n",
    "    - open_close_diff: the differene between the closing and opening prices,\n",
    "    - standard_score: the standard score associated with teh distribution of open_close_diff for each of its values\n",
    "    - is_anomalous: True if the absolute value of the standard score for a given day is above the `threshold`\n",
    "    \"\"\"\n",
    "    return_df = df.copy()\n",
    "    return_df[\"open_close_diff\"] = return_df[close_col] - return_df[open_col]\n",
    "    return_df[\"standard_score\"] = (return_df.open_close_diff - return_df.open_close_diff.mean()) / return_df.open_close_diff.std()\n",
    "    return_df[\"is_anomalous\"] = return_df.standard_score > threshold\n",
    "    \n",
    "    return return_df\n",
    "    "
   ]
  },
  {
   "cell_type": "code",
   "execution_count": 130,
   "metadata": {
    "collapsed": false
   },
   "outputs": [],
   "source": [
    "df2 = find_anomalies(df)"
   ]
  },
  {
   "cell_type": "code",
   "execution_count": 129,
   "metadata": {
    "collapsed": false
   },
   "outputs": [
    {
     "data": {
      "text/html": [
       "<div>\n",
       "<table border=\"1\" class=\"dataframe\">\n",
       "  <thead>\n",
       "    <tr style=\"text-align: right;\">\n",
       "      <th></th>\n",
       "      <th>1b. open (USD)</th>\n",
       "      <th>4b. close (USD)</th>\n",
       "      <th>open_close_diff</th>\n",
       "      <th>standard_score</th>\n",
       "    </tr>\n",
       "    <tr>\n",
       "      <th>timestamp</th>\n",
       "      <th></th>\n",
       "      <th></th>\n",
       "      <th></th>\n",
       "      <th></th>\n",
       "    </tr>\n",
       "  </thead>\n",
       "  <tbody>\n",
       "    <tr>\n",
       "      <th>2017-12-06</th>\n",
       "      <td>10444.800690</td>\n",
       "      <td>13481.503374</td>\n",
       "      <td>3036.702684</td>\n",
       "      <td>8.692704</td>\n",
       "    </tr>\n",
       "    <tr>\n",
       "      <th>2017-12-07</th>\n",
       "      <td>13481.503374</td>\n",
       "      <td>17274.365622</td>\n",
       "      <td>3792.862248</td>\n",
       "      <td>10.860198</td>\n",
       "    </tr>\n",
       "    <tr>\n",
       "      <th>2017-12-08</th>\n",
       "      <td>17274.365622</td>\n",
       "      <td>19214.732749</td>\n",
       "      <td>1940.367128</td>\n",
       "      <td>5.550112</td>\n",
       "    </tr>\n",
       "    <tr>\n",
       "      <th>2017-12-11</th>\n",
       "      <td>15832.240705</td>\n",
       "      <td>17296.730955</td>\n",
       "      <td>1464.490251</td>\n",
       "      <td>4.186035</td>\n",
       "    </tr>\n",
       "    <tr>\n",
       "      <th>2017-12-12</th>\n",
       "      <td>17296.730955</td>\n",
       "      <td>21794.628561</td>\n",
       "      <td>4497.897606</td>\n",
       "      <td>12.881146</td>\n",
       "    </tr>\n",
       "    <tr>\n",
       "      <th>2017-12-16</th>\n",
       "      <td>17318.091552</td>\n",
       "      <td>18741.236828</td>\n",
       "      <td>1423.145275</td>\n",
       "      <td>4.067522</td>\n",
       "    </tr>\n",
       "    <tr>\n",
       "      <th>2017-12-23</th>\n",
       "      <td>14014.023278</td>\n",
       "      <td>15081.287487</td>\n",
       "      <td>1067.264209</td>\n",
       "      <td>3.047406</td>\n",
       "    </tr>\n",
       "    <tr>\n",
       "      <th>2017-12-26</th>\n",
       "      <td>13578.687659</td>\n",
       "      <td>15638.652185</td>\n",
       "      <td>2059.964526</td>\n",
       "      <td>5.892932</td>\n",
       "    </tr>\n",
       "    <tr>\n",
       "      <th>2018-01-02</th>\n",
       "      <td>13512.425139</td>\n",
       "      <td>14729.885629</td>\n",
       "      <td>1217.460490</td>\n",
       "      <td>3.477937</td>\n",
       "    </tr>\n",
       "    <tr>\n",
       "      <th>2018-01-05</th>\n",
       "      <td>14618.087339</td>\n",
       "      <td>16324.421055</td>\n",
       "      <td>1706.333716</td>\n",
       "      <td>4.879267</td>\n",
       "    </tr>\n",
       "    <tr>\n",
       "      <th>2018-01-07</th>\n",
       "      <td>16287.514245</td>\n",
       "      <td>17377.399762</td>\n",
       "      <td>1089.885517</td>\n",
       "      <td>3.112249</td>\n",
       "    </tr>\n",
       "    <tr>\n",
       "      <th>2018-01-20</th>\n",
       "      <td>11790.501399</td>\n",
       "      <td>14307.718349</td>\n",
       "      <td>2517.216951</td>\n",
       "      <td>7.203624</td>\n",
       "    </tr>\n",
       "  </tbody>\n",
       "</table>\n",
       "</div>"
      ],
      "text/plain": [
       "            1b. open (USD)  4b. close (USD)  open_close_diff  standard_score\n",
       "timestamp                                                                   \n",
       "2017-12-06    10444.800690     13481.503374      3036.702684        8.692704\n",
       "2017-12-07    13481.503374     17274.365622      3792.862248       10.860198\n",
       "2017-12-08    17274.365622     19214.732749      1940.367128        5.550112\n",
       "2017-12-11    15832.240705     17296.730955      1464.490251        4.186035\n",
       "2017-12-12    17296.730955     21794.628561      4497.897606       12.881146\n",
       "2017-12-16    17318.091552     18741.236828      1423.145275        4.067522\n",
       "2017-12-23    14014.023278     15081.287487      1067.264209        3.047406\n",
       "2017-12-26    13578.687659     15638.652185      2059.964526        5.892932\n",
       "2018-01-02    13512.425139     14729.885629      1217.460490        3.477937\n",
       "2018-01-05    14618.087339     16324.421055      1706.333716        4.879267\n",
       "2018-01-07    16287.514245     17377.399762      1089.885517        3.112249\n",
       "2018-01-20    11790.501399     14307.718349      2517.216951        7.203624"
      ]
     },
     "execution_count": 129,
     "metadata": {},
     "output_type": "execute_result"
    }
   ],
   "source": [
    "df2[df2.is_anomalous][[\"1b. open (USD)\", \"4b. close (USD)\", \"open_close_diff\", \"standard_score\"]]"
   ]
  },
  {
   "cell_type": "markdown",
   "metadata": {},
   "source": [
    "The extraordinary movements detected by our simple script make a lot of sense: they match the heyday of the BTC bubble back in late 2017-early 2018."
   ]
  },
  {
   "cell_type": "markdown",
   "metadata": {},
   "source": [
    "# Open-Close plot and average"
   ]
  },
  {
   "cell_type": "markdown",
   "metadata": {},
   "source": [
    "We are asked to create a script that \"_reads the output file(s) from point ( 1 ) and plots the open and close prices for the last 30 days_\". This can be done un several ways: for instance, one might wirte a script that only plots data from (1) if belongs to the last 30 days to date.\n",
    "\n",
    "More reasonably, we can write a script that plots the last 30 days' worth of data from _any_ dataset, and then call it with a dataset that has information up until today/yesterday."
   ]
  },
  {
   "cell_type": "code",
   "execution_count": 157,
   "metadata": {
    "collapsed": true
   },
   "outputs": [],
   "source": [
    "def plot_last_n_days(df, open_col=\"1b. open (USD)\", close_col=\"4b. close (USD)\", days=30, output_path=None):\n",
    "    \"\"\"\n",
    "    Plots at most the last 30 days of data (or less if there are not enough) from a dataset having a date as index.\n",
    "    Includes the average difference between closing and opening prices for those 30 days.\n",
    "    The plot is saved in `output_path`.\n",
    "    \"\"\"\n",
    "    plot_df = df.sort_index().tail(days)\n",
    "    plot_df[\"open_close_diff\"] = plot_df[close_col] - plot_df[open_col]\n",
    "    \n",
    "    plt.plot_date(plot_df.index.values, plot_df[open_col].values, 'g+', label=\"Open Price\")\n",
    "    plt.plot_date(plot_df.index.values, plot_df[close_col].values, 'rx', label=\"Close Price\")\n",
    "    \n",
    "    plt.xticks(rotation=45)\n",
    "    plt.legend()\n",
    "    plt.title(\"\"\"\n",
    "    Open and Close price in USD dollars for BTC in the CNY market\n",
    "    (Average daily close-open difference: {:.2f} USD)\n",
    "    \"\"\".format(plot_df[\"open_close_diff\"].mean()))\n",
    "\n",
    "    fig = plt.gcf()\n",
    "    \n",
    "    if output_path:\n",
    "        fig.set_size_inches(18.5, 10.5)\n",
    "        fig.savefig(output_path, dpi=100)\n",
    "    \n",
    "    return fig"
   ]
  },
  {
   "cell_type": "code",
   "execution_count": 159,
   "metadata": {
    "collapsed": false
   },
   "outputs": [
    {
     "data": {
      "image/png": "[encoded data removed]",
      "text/plain": [
       "<matplotlib.figure.Figure at 0x7f53e5618510>"
      ]
     },
     "metadata": {},
     "output_type": "display_data"
    }
   ],
   "source": [
    "plot_last_n_days(df, output_path='BTC_open_close.png');"
   ]
  }
 ],
 "metadata": {
  "kernelspec": {
   "display_name": "Python [conda root]",
   "language": "python",
   "name": "conda-root-py"
  },
  "language_info": {
   "codemirror_mode": {
    "name": "ipython",
    "version": 2
   },
   "file_extension": ".py",
   "mimetype": "text/x-python",
   "name": "python",
   "nbconvert_exporter": "python",
   "pygments_lexer": "ipython2",
   "version": "2.7.12"
  },
  "toc": {
   "nav_menu": {
    "height": "99px",
    "width": "252px"
   },
   "navigate_menu": true,
   "number_sections": true,
   "sideBar": true,
   "threshold": 4,
   "toc_cell": false,
   "toc_section_display": "block",
   "toc_window_display": false
  }
 },
 "nbformat": 4,
 "nbformat_minor": 1
}
