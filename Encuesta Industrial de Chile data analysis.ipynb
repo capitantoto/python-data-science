{
 "cells": [
  {
   "cell_type": "markdown",
   "metadata": {},
   "source": [
    "# Setup: libraries import and data loading"
   ]
  },
  {
   "cell_type": "code",
   "execution_count": 5,
   "metadata": {
    "collapsed": false
   },
   "outputs": [],
   "source": [
    "import numpy as np\n",
    "import pandas as pd\n",
    "import sklearn"
   ]
  },
  {
   "cell_type": "code",
   "execution_count": 7,
   "metadata": {
    "collapsed": false
   },
   "outputs": [],
   "source": [
    "df = pd.read_excel(\"datos_ine.xlsx\")"
   ]
  },
  {
   "cell_type": "markdown",
   "metadata": {},
   "source": [
    "# Dataset cleaning"
   ]
  },
  {
   "cell_type": "markdown",
   "metadata": {},
   "source": [
    "We are asked to \n",
    "\n",
    "> Remove the observations where the domestic sales or exports are either negative or missing (they appear as “.”) or where the total sales are null or negative.\n",
    "\n",
    "But from running `df.dtypes` we can see that all columns have been correctly parsed as integres, meaning that there are no strings like \".\" in the data:"
   ]
  },
  {
   "cell_type": "code",
   "execution_count": 19,
   "metadata": {
    "collapsed": false
   },
   "outputs": [
    {
     "data": {
      "text/plain": [
       "Obs       int64\n",
       "year      int64\n",
       "nui       int64\n",
       "ciiu3     int64\n",
       "region    int64\n",
       "forpro    int64\n",
       "fabval    int64\n",
       "expval    int64\n",
       "va        int64\n",
       "emptot    int64\n",
       "rempag    int64\n",
       "vstk      int64\n",
       "dtype: object"
      ]
     },
     "execution_count": 19,
     "metadata": {},
     "output_type": "execute_result"
    }
   ],
   "source": [
    "df.dtypes"
   ]
  },
  {
   "cell_type": "markdown",
   "metadata": {},
   "source": [
    "We can even see that there are no missing (N/A) values in the dataset, using the handy `dropna()` function:"
   ]
  },
  {
   "cell_type": "code",
   "execution_count": 38,
   "metadata": {
    "collapsed": false
   },
   "outputs": [
    {
     "data": {
      "text/plain": [
       "31316"
      ]
     },
     "execution_count": 38,
     "metadata": {},
     "output_type": "execute_result"
    }
   ],
   "source": [
    "len(df)"
   ]
  },
  {
   "cell_type": "code",
   "execution_count": 24,
   "metadata": {
    "collapsed": true
   },
   "outputs": [],
   "source": [
    "df2 = df.dropna()\n",
    "assert(len(df2)==len(df))"
   ]
  },
  {
   "cell_type": "markdown",
   "metadata": {},
   "source": [
    "Furthermore, there is no column describing \"domestic sales\": we only have \"Exports\" (`EXPVAL`) and \"Total Sales\"(`FABVAL`). Assuming total sales equal domestic sales + exports, we can compute the missing column. We can also use more expressive names:"
   ]
  },
  {
   "cell_type": "code",
   "execution_count": 25,
   "metadata": {
    "collapsed": true
   },
   "outputs": [],
   "source": [
    "df[\"exports\"] = df[\"expval\"]\n",
    "df[\"total_sales\"] = df[\"fabval\"]\n",
    "df[\"domestic_sales\"] = df[\"total_sales\"] - df[\"exports\"]"
   ]
  },
  {
   "cell_type": "markdown",
   "metadata": {},
   "source": [
    "Even if we have data points for all of the observations, we can still have some negative values, which do not make sense in this context. We find only one \"dirty\" observation:"
   ]
  },
  {
   "cell_type": "code",
   "execution_count": 40,
   "metadata": {
    "collapsed": false
   },
   "outputs": [
    {
     "data": {
      "text/html": [
       "<div>\n",
       "<table border=\"1\" class=\"dataframe\">\n",
       "  <thead>\n",
       "    <tr style=\"text-align: right;\">\n",
       "      <th></th>\n",
       "      <th>Obs</th>\n",
       "      <th>year</th>\n",
       "      <th>nui</th>\n",
       "      <th>ciiu3</th>\n",
       "      <th>region</th>\n",
       "      <th>forpro</th>\n",
       "      <th>fabval</th>\n",
       "      <th>expval</th>\n",
       "      <th>va</th>\n",
       "      <th>emptot</th>\n",
       "      <th>rempag</th>\n",
       "      <th>vstk</th>\n",
       "      <th>exports</th>\n",
       "      <th>total_sales</th>\n",
       "      <th>domestic_sales</th>\n",
       "    </tr>\n",
       "  </thead>\n",
       "  <tbody>\n",
       "    <tr>\n",
       "      <th>790</th>\n",
       "      <td>791</td>\n",
       "      <td>2001</td>\n",
       "      <td>10932</td>\n",
       "      <td>2925</td>\n",
       "      <td>8</td>\n",
       "      <td>1</td>\n",
       "      <td>0</td>\n",
       "      <td>1</td>\n",
       "      <td>25504</td>\n",
       "      <td>21</td>\n",
       "      <td>85073</td>\n",
       "      <td>1700000</td>\n",
       "      <td>1</td>\n",
       "      <td>0</td>\n",
       "      <td>-1</td>\n",
       "    </tr>\n",
       "  </tbody>\n",
       "</table>\n",
       "</div>"
      ],
      "text/plain": [
       "     Obs  year    nui  ciiu3  region  forpro  fabval  expval     va  emptot  \\\n",
       "790  791  2001  10932   2925       8       1       0       1  25504      21   \n",
       "\n",
       "     rempag     vstk  exports  total_sales  domestic_sales  \n",
       "790   85073  1700000        1            0              -1  "
      ]
     },
     "execution_count": 40,
     "metadata": {},
     "output_type": "execute_result"
    }
   ],
   "source": [
    "errors = df[(df.total_sales < 0) | (df.exports < 0) | (df.domestic_sales < 0)]\n",
    "errors"
   ]
  },
  {
   "cell_type": "code",
   "execution_count": 41,
   "metadata": {
    "collapsed": false
   },
   "outputs": [],
   "source": [
    "df = df[(df.total_sales >= 0) & (df.exports >= 0) & (df.domestic_sales >= 0)]"
   ]
  },
  {
   "cell_type": "code",
   "execution_count": 43,
   "metadata": {
    "collapsed": false
   },
   "outputs": [
    {
     "data": {
      "text/plain": [
       "31315"
      ]
     },
     "execution_count": 43,
     "metadata": {},
     "output_type": "execute_result"
    }
   ],
   "source": [
    "len(df)"
   ]
  },
  {
   "cell_type": "markdown",
   "metadata": {},
   "source": [
    "Looking ad data from nui=10004 we can see that even if a company has only one year of activity, there will be observations for the whole period [2001, 2006], to keep the panel balanced."
   ]
  },
  {
   "cell_type": "code",
   "execution_count": 47,
   "metadata": {
    "collapsed": false
   },
   "outputs": [
    {
     "data": {
      "text/html": [
       "<div>\n",
       "<table border=\"1\" class=\"dataframe\">\n",
       "  <thead>\n",
       "    <tr style=\"text-align: right;\">\n",
       "      <th></th>\n",
       "      <th>Obs</th>\n",
       "      <th>year</th>\n",
       "      <th>nui</th>\n",
       "      <th>ciiu3</th>\n",
       "      <th>region</th>\n",
       "      <th>forpro</th>\n",
       "      <th>fabval</th>\n",
       "      <th>expval</th>\n",
       "      <th>va</th>\n",
       "      <th>emptot</th>\n",
       "      <th>rempag</th>\n",
       "      <th>vstk</th>\n",
       "      <th>exports</th>\n",
       "      <th>total_sales</th>\n",
       "      <th>domestic_sales</th>\n",
       "    </tr>\n",
       "  </thead>\n",
       "  <tbody>\n",
       "    <tr>\n",
       "      <th>4</th>\n",
       "      <td>5</td>\n",
       "      <td>2001</td>\n",
       "      <td>10004</td>\n",
       "      <td>3592</td>\n",
       "      <td>1</td>\n",
       "      <td>1</td>\n",
       "      <td>1355082</td>\n",
       "      <td>0</td>\n",
       "      <td>1967145</td>\n",
       "      <td>60</td>\n",
       "      <td>502000</td>\n",
       "      <td>5600000</td>\n",
       "      <td>0</td>\n",
       "      <td>1355082</td>\n",
       "      <td>1355082</td>\n",
       "    </tr>\n",
       "    <tr>\n",
       "      <th>4950</th>\n",
       "      <td>4951</td>\n",
       "      <td>2002</td>\n",
       "      <td>10004</td>\n",
       "      <td>3592</td>\n",
       "      <td>1</td>\n",
       "      <td>1</td>\n",
       "      <td>0</td>\n",
       "      <td>0</td>\n",
       "      <td>1695807</td>\n",
       "      <td>54</td>\n",
       "      <td>556135</td>\n",
       "      <td>2500000</td>\n",
       "      <td>0</td>\n",
       "      <td>0</td>\n",
       "      <td>0</td>\n",
       "    </tr>\n",
       "    <tr>\n",
       "      <th>10216</th>\n",
       "      <td>10217</td>\n",
       "      <td>2003</td>\n",
       "      <td>10004</td>\n",
       "      <td>3592</td>\n",
       "      <td>1</td>\n",
       "      <td>1</td>\n",
       "      <td>0</td>\n",
       "      <td>0</td>\n",
       "      <td>2251406</td>\n",
       "      <td>73</td>\n",
       "      <td>586546</td>\n",
       "      <td>3200000</td>\n",
       "      <td>0</td>\n",
       "      <td>0</td>\n",
       "      <td>0</td>\n",
       "    </tr>\n",
       "    <tr>\n",
       "      <th>15442</th>\n",
       "      <td>15443</td>\n",
       "      <td>2004</td>\n",
       "      <td>10004</td>\n",
       "      <td>3592</td>\n",
       "      <td>1</td>\n",
       "      <td>1</td>\n",
       "      <td>0</td>\n",
       "      <td>0</td>\n",
       "      <td>1365630</td>\n",
       "      <td>124</td>\n",
       "      <td>924612</td>\n",
       "      <td>1400000</td>\n",
       "      <td>0</td>\n",
       "      <td>0</td>\n",
       "      <td>0</td>\n",
       "    </tr>\n",
       "    <tr>\n",
       "      <th>20873</th>\n",
       "      <td>20874</td>\n",
       "      <td>2005</td>\n",
       "      <td>10004</td>\n",
       "      <td>3511</td>\n",
       "      <td>1</td>\n",
       "      <td>1</td>\n",
       "      <td>0</td>\n",
       "      <td>0</td>\n",
       "      <td>1162824</td>\n",
       "      <td>123</td>\n",
       "      <td>1037220</td>\n",
       "      <td>1400000</td>\n",
       "      <td>0</td>\n",
       "      <td>0</td>\n",
       "      <td>0</td>\n",
       "    </tr>\n",
       "    <tr>\n",
       "      <th>26215</th>\n",
       "      <td>26216</td>\n",
       "      <td>2006</td>\n",
       "      <td>10004</td>\n",
       "      <td>3511</td>\n",
       "      <td>1</td>\n",
       "      <td>1</td>\n",
       "      <td>0</td>\n",
       "      <td>0</td>\n",
       "      <td>1250395</td>\n",
       "      <td>119</td>\n",
       "      <td>990909</td>\n",
       "      <td>6400000</td>\n",
       "      <td>0</td>\n",
       "      <td>0</td>\n",
       "      <td>0</td>\n",
       "    </tr>\n",
       "  </tbody>\n",
       "</table>\n",
       "</div>"
      ],
      "text/plain": [
       "         Obs  year    nui  ciiu3  region  forpro   fabval  expval       va  \\\n",
       "4          5  2001  10004   3592       1       1  1355082       0  1967145   \n",
       "4950    4951  2002  10004   3592       1       1        0       0  1695807   \n",
       "10216  10217  2003  10004   3592       1       1        0       0  2251406   \n",
       "15442  15443  2004  10004   3592       1       1        0       0  1365630   \n",
       "20873  20874  2005  10004   3511       1       1        0       0  1162824   \n",
       "26215  26216  2006  10004   3511       1       1        0       0  1250395   \n",
       "\n",
       "       emptot   rempag     vstk  exports  total_sales  domestic_sales  \n",
       "4          60   502000  5600000        0      1355082         1355082  \n",
       "4950       54   556135  2500000        0            0               0  \n",
       "10216      73   586546  3200000        0            0               0  \n",
       "15442     124   924612  1400000        0            0               0  \n",
       "20873     123  1037220  1400000        0            0               0  \n",
       "26215     119   990909  6400000        0            0               0  "
      ]
     },
     "execution_count": 47,
     "metadata": {},
     "output_type": "execute_result"
    }
   ],
   "source": [
    "df[df.nui==10004]"
   ]
  },
  {
   "cell_type": "markdown",
   "metadata": {},
   "source": [
    "Therefore, and since we do not have a way to find missing data for those companies who do not have exactly 6 observations, we will need to exclude any company that does not have exactly 6 observations from the bataset in order to keep the panel balanced."
   ]
  },
  {
   "cell_type": "code",
   "execution_count": 60,
   "metadata": {
    "collapsed": false
   },
   "outputs": [
    {
     "data": {
      "text/plain": [
       "7797"
      ]
     },
     "execution_count": 60,
     "metadata": {},
     "output_type": "execute_result"
    }
   ],
   "source": [
    "df[\"nui\"].nunique()"
   ]
  },
  {
   "cell_type": "code",
   "execution_count": 71,
   "metadata": {
    "collapsed": false
   },
   "outputs": [],
   "source": [
    "nuis_obs = df[[\"Obs\",\"nui\"]].groupby(\"nui\").count()\n",
    "nuis = nuis_obs.index.values\n",
    "balanced_nuis = nuis_obs[nuis_obs[\"Obs\"] == 6].index.values"
   ]
  },
  {
   "cell_type": "code",
   "execution_count": 76,
   "metadata": {
    "collapsed": false
   },
   "outputs": [
    {
     "name": "stdout",
     "output_type": "stream",
     "text": [
      "There are 7797 companies in the panel, but only 2825 (36.2%) with exactly six observations.\n"
     ]
    }
   ],
   "source": [
    "print(\"There are {} companies in the panel, but only {} ({:3.1f}%) with exactly six observations.\".format(len(nuis), len(balanced_nuis), 100.0 * len(balanced_nuis) / len(nuis)))"
   ]
  },
  {
   "cell_type": "markdown",
   "metadata": {},
   "source": [
    "Having to discard two thirds of the companies due to aparrently missing data seems a bit drastic, and therefore in a real setting we might try to investigate the issue further to see what can be done."
   ]
  },
  {
   "cell_type": "code",
   "execution_count": 95,
   "metadata": {
    "collapsed": false
   },
   "outputs": [],
   "source": [
    "balanced_df = df[df[\"nui\"].isin(balanced_nuis)]\n",
    "assert(len(balanced_df) == len(balanced_nuis) * 6)"
   ]
  },
  {
   "cell_type": "code",
   "execution_count": 109,
   "metadata": {
    "collapsed": false
   },
   "outputs": [],
   "source": [
    "pivoted_df = balanced_df.pivot(index='nui', columns='year', values='exports').reset_index()[[\"nui\", 2001, 2006]]"
   ]
  },
  {
   "cell_type": "code",
   "execution_count": 112,
   "metadata": {
    "collapsed": false
   },
   "outputs": [],
   "source": [
    "def classify_nui(row):\n",
    "    if (row[2001] > 0) and (row[2006] > 0):\n",
    "        return \"Cont. Exporter\"\n",
    "    elif (row[2001] > 0) and (row[2006] == 0):\n",
    "        return \"Stopper\"\n",
    "    elif (row[2001] == 0) and (row[2006] > 0):\n",
    "        return \"Starter\"\n",
    "    elif (row[2001] ==0) and (row[2006] == 0):\n",
    "        return \"Cont. Non-exporter\"\n",
    "    else:\n",
    "        return \"ERROR\""
   ]
  },
  {
   "cell_type": "code",
   "execution_count": 113,
   "metadata": {
    "collapsed": true
   },
   "outputs": [],
   "source": [
    "pivoted_df[\"category\"] = pivoted_df.apply(lambda row: classify_nui(row),axis=1)"
   ]
  }
 ],
 "metadata": {
  "anaconda-cloud": {},
  "kernelspec": {
   "display_name": "Python [conda root]",
   "language": "python",
   "name": "conda-root-py"
  },
  "language_info": {
   "codemirror_mode": {
    "name": "ipython",
    "version": 2
   },
   "file_extension": ".py",
   "mimetype": "text/x-python",
   "name": "python",
   "nbconvert_exporter": "python",
   "pygments_lexer": "ipython2",
   "version": "2.7.12"
  },
  "toc": {
   "nav_menu": {
    "height": "62px",
    "width": "252px"
   },
   "navigate_menu": true,
   "number_sections": true,
   "sideBar": true,
   "threshold": 4,
   "toc_cell": false,
   "toc_section_display": "block",
   "toc_window_display": false
  }
 },
 "nbformat": 4,
 "nbformat_minor": 1
}
