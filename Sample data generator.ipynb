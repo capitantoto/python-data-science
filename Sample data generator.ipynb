{
 "cells": [
  {
   "cell_type": "code",
   "execution_count": 7,
   "metadata": {
    "collapsed": false
   },
   "outputs": [],
   "source": [
    "import pandas as pd\n",
    "import numpy as np\n",
    "import datetime as dt\n",
    "import string\n",
    "import random"
   ]
  },
  {
   "cell_type": "code",
   "execution_count": 8,
   "metadata": {
    "collapsed": true
   },
   "outputs": [],
   "source": [
    "def generate_device_id(length):\n",
    "    \"\"\"\n",
    "    Generates a sequence of `length` ascii characters\n",
    "    \"\"\"\n",
    "    return ''.join(np.random.choice(list(string.ascii_letters), length))"
   ]
  },
  {
   "cell_type": "code",
   "execution_count": 9,
   "metadata": {
    "collapsed": false
   },
   "outputs": [],
   "source": [
    "def generate_row(device_ids):\n",
    "    # generar fecha al azar en 2017\n",
    "    start_date = dt.datetime(2017,01,01)\n",
    "    random_seconds_offset = random.randint(0, 365*24*60*60)\n",
    "    row_date = start_date + dt.timedelta(seconds=random_seconds_offset)\n",
    "    # generar usuario al azar entre 100\n",
    "    row_device_id = np.random.choice(device_ids)\n",
    "    # generar entero al azar entre (1,2)\n",
    "    row_event_id = random.randint(1,2)\n",
    "    # generar un valor al azar si el entero es 1\n",
    "    row_event_value = random.uniform(0,10)**2 if row_event_id == 1 else None\n",
    "    return [\n",
    "        row_date.strftime(\"%Y-%m-%d %H:%M:%S\"),\n",
    "        row_device_id,\n",
    "        row_event_id,\n",
    "        row_event_value\n",
    "        ]"
   ]
  },
  {
   "cell_type": "code",
   "execution_count": 10,
   "metadata": {
    "collapsed": false
   },
   "outputs": [],
   "source": [
    "def generate_sample_data(n_rows, n_device_ids, output_path=None):\n",
    "    device_ids = [generate_device_id(10) for i in range(n_device_ids)]\n",
    "    df = pd.DataFrame(\n",
    "        columns=[\"event_date\",\"device_id\",\"event_id\",\"event_value\"],\n",
    "        data=[generate_row(device_ids) for i in range(n_rows)]\n",
    "    )\n",
    "    if output_path:\n",
    "        df.to_csv(output_path, header=True, index=False, encoding='utf8')\n",
    "    return df"
   ]
  },
  {
   "cell_type": "code",
   "execution_count": 12,
   "metadata": {
    "collapsed": false
   },
   "outputs": [],
   "source": [
    "generate_sample_data(100000, 100, \"sample_data.csv\");"
   ]
  }
 ],
 "metadata": {
  "anaconda-cloud": {},
  "kernelspec": {
   "display_name": "Python [conda root]",
   "language": "python",
   "name": "conda-root-py"
  },
  "language_info": {
   "codemirror_mode": {
    "name": "ipython",
    "version": 2
   },
   "file_extension": ".py",
   "mimetype": "text/x-python",
   "name": "python",
   "nbconvert_exporter": "python",
   "pygments_lexer": "ipython2",
   "version": "2.7.12"
  },
  "toc": {
   "nav_menu": {
    "height": "12px",
    "width": "252px"
   },
   "navigate_menu": true,
   "number_sections": true,
   "sideBar": true,
   "threshold": 4,
   "toc_cell": false,
   "toc_section_display": "block",
   "toc_window_display": false
  }
 },
 "nbformat": 4,
 "nbformat_minor": 1
}
